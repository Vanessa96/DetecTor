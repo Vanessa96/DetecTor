{
 "cells": [
  {
   "cell_type": "code",
   "execution_count": 1,
   "metadata": {},
   "outputs": [],
   "source": [
    "# import autoreload\n",
    "# ?autoreload\n",
    "\n",
    "%load_ext autoreload\n",
    "%autoreload 2\n",
    "import torch\n",
    "from common import sanitize\n",
    "# import torch.nn as nn\n",
    "# torch.nn.modules.module.Module._call_impl = _call_impl2\n",
    "# torch.nn.Module._call_impl=_call_impl2\n",
    "# nn.Module._call_impl=_call_impl2\n"
   ]
  },
  {
   "cell_type": "code",
   "execution_count": 15,
   "metadata": {},
   "outputs": [
    {
     "data": {
      "image/png": "[encoded data removed]",
      "text/plain": [
       "<Figure size 432x288 with 1 Axes>"
      ]
     },
     "metadata": {
      "needs_background": "light"
     },
     "output_type": "display_data"
    }
   ],
   "source": [
    "import numpy as np\n",
    "import matplotlib.pyplot as plt\n",
    "\n",
    "data =[\n",
    "13.41831753, 14.24257614, 13.67530797, 13.38531535, 9.622475346, 11.76511494, 11.95523344, 15.0106918, 14.53941124, 9.896657452, 11.27928495, 13.53076265, 13.90819157, 13.5536826, 14.58643606, 13.67597702, 12.90547826, 12.9415645, 10.79263019, 14.23242467, 15.63687381, 9.408300147, 12.1867698, 13.1948617, 10.81807992, 13.75939787, 12.30528043, 11.24980357, 12.55818014, 14.79584199, 10.96504181, 13.45818302, 12.88396798, 8.812445908, 14.8578155, 13.78856213, 12.73506788, 12.97733226, 13.40098183, 12.82261416, 12.1059271, 11.58146691, 11.84358462, 14.00260615, 9.38656165, 13.04141822, 13.02696849, 14.20621092, 10.51214713, 12.74456601, 14.24943142, 10.98496233, 10.34253439, 14.72844488, 10.95271328, 13.5010997, 22.57372552, 23.66317159, 24.16003943, 24.2867595, 25.32810764, 24.87822138, 24.03613058, 25.12136086, 23.7589534, 22.65240191, 23.66351436, 23.21483438, 24.78400709, 25.16263972, 23.68989239, 24.2578122, 25.73911589, 21.70984586, 23.37238573, 25.44858723, 22.76278729, 24.62949059, 23.4938048, 24.21164685, 25.7274449, 24.2078517, 23.76961718, 26.89444913, 26.17990225, 22.31571423, 20.8336373, 21.02211555, 22.6171758, 24.11202282, 24.12223916, 25.92397825, 24.82692423, 22.19702871, 23.48329294, 24.49791812, 22.28787792, 22.33069863, 25.51405369, 25.09606256, 22.92909756, 25.78642237, 24.55631747, 26.01907462, 21.57647166, 25.02130319, 25.99634151, 23.89533622, 26.3776954, 23.73957306, 22.18576707, 24.27718969, 23.93939589, 25.08293872, 26.33969077, 23.04702086, 25.26835598, 24.7022833, 25.06700962, 22.05519116, 25.6808416, 22.8990797, 22.62404626, 23.84427772, 24.52220782, 25.0517399, 24.99957389, 25.9088608, 22.95207229, 24.23137213, 23.19155061, 22.95097839, 23.0994308, 24.09090818, 23.17005974, 24.37553465, 23.167263, 24.01868985, 11.42106254, 11.21360238, 12.22437928, 11.19759844, 13.33692235, 12.7059425, 11.48180572, 12.12343311, 12.2020964, 12.14323476, 9.84774572, 13.13033881, 12.6139495, 11.67639914, 11.32859897, 10.62824764, 10.93780054, 11.07962112, 12.10391571, 10.21561503, 11.31835281, 11.16316732, 11.59250807, 8.582846796, 12.80075, 9.584382849, 10.57620628, 12.88112682]\n",
    "num_bins = 50\n",
    "counts, bin_edges = np.histogram (data, bins=1000)\n",
    "cdf = np.cumsum (counts)\n",
    "f = plt.figure()\n",
    "plt.plot (bin_edges[1:], cdf/cdf[-1])\n",
    "plt.show()"
   ]
  },
  {
   "cell_type": "code",
   "execution_count": 16,
   "metadata": {},
   "outputs": [],
   "source": [
    "f.savefig(\"foo.pdf\", bbox_inches='tight')\n"
   ]
  },
  {
   "cell_type": "code",
   "execution_count": 90,
   "metadata": {},
   "outputs": [
    {
     "data": {
      "text/plain": [
       "<torch.autograd.grad_mode.set_grad_enabled at 0x139b71bb0>"
      ]
     },
     "execution_count": 90,
     "metadata": {},
     "output_type": "execute_result"
    }
   ],
   "source": [
    "\n",
    "import time\n",
    "from transformers import AutoModel\n",
    "from transformers import AutoConfig\n",
    "import torch\n",
    "from torch import nn\n",
    "torch.set_grad_enabled(False)"
   ]
  },
  {
   "cell_type": "code",
   "execution_count": 91,
   "metadata": {},
   "outputs": [],
   "source": [
    "from calibrate_e_ml import get_module_info\n",
    "from calibrate_e_ml import print_info\n",
    "\n",
    "from cg.node import construct_aggregation_graph"
   ]
  },
  {
   "cell_type": "code",
   "execution_count": 92,
   "metadata": {},
   "outputs": [],
   "source": [
    "seq_len = 100\n",
    "bs = 4\n",
    "input_ids = torch.randint(1000, size=(bs, seq_len), dtype=torch.long, device='cpu')\n",
    "cuda_exist = torch.cuda.is_available()\n",
    "device = torch.device(\"cuda\" if cuda_exist else \"cpu\")"
   ]
  },
  {
   "cell_type": "code",
   "execution_count": null,
   "metadata": {},
   "outputs": [],
   "source": [
    "model_name = \"prajjwal1/bert-tiny\"\n",
    "information = get_module_info(model_name, bs, seq_len, device, 'module')\n",
    "print_info(information)"
   ]
  },
  {
   "cell_type": "code",
   "execution_count": null,
   "metadata": {},
   "outputs": [],
   "source": [
    "import inspect\n",
    "from run_level_exp import get_model_flops_mem_bytes, wrapped_partial"
   ]
  },
  {
   "cell_type": "code",
   "execution_count": null,
   "metadata": {},
   "outputs": [],
   "source": [
    "sel_attn = information['BertSelfAttention'][0]\n",
    "fn = sel_attn['module']\n",
    "fi = sel_attn['inputs']\n",
    "fi_kwargs = sel_attn['in_kwargs']\n",
    "\n",
    "fn_fwd = fn.forward\n",
    "#  unify fi and fi_kwargs\n",
    "fn_args = inspect.getfullargspec(fn_fwd).args\n",
    "fill_args = dict()\n",
    "fi_args = fn_args[1:1 + len(fi)]\n",
    "ti = []\n",
    "for fi_k, fi_v in zip(fi_args, fi):\n",
    "    if isinstance(fi_v, torch.Tensor):\n",
    "        ti.append(fi_v)\n",
    "    else:\n",
    "        fill_args[fi_k] = fi_v\n",
    "for k, v in fi_kwargs.items():\n",
    "    if isinstance(v, torch.Tensor):\n",
    "        ti.append(v)\n",
    "    else:\n",
    "        fill_args[k] = v\n",
    "# wrap forward into traceable fn (only tensor args)\n",
    "# https://github.com/pytorch/pytorch/issues/14455#issuecomment-445962680\n",
    "fn.forward = wrapped_partial(fn.forward, **fill_args)"
   ]
  },
  {
   "cell_type": "code",
   "execution_count": null,
   "metadata": {},
   "outputs": [],
   "source": [
    "flops, mem_bytes = get_model_flops_mem_bytes(fn, ti, 'BertEncoder')\n",
    "print(flops/1e6, mem_bytes/1024/1024)"
   ]
  },
  {
   "cell_type": "code",
   "execution_count": null,
   "metadata": {},
   "outputs": [],
   "source": [
    "model_name = \"distilbert-base-uncased\"\n",
    "distilbert_information = get_module_info(model_name, bs, seq_len, device, 'module')\n",
    "print_info(distilbert_information)"
   ]
  },
  {
   "cell_type": "code",
   "execution_count": null,
   "metadata": {},
   "outputs": [],
   "source": [
    "get_non_parametric_ml_op(distilbert_information)"
   ]
  },
  {
   "cell_type": "code",
   "execution_count": null,
   "metadata": {},
   "outputs": [],
   "source": [
    "model_name = \"bert-base-uncased\"\n",
    "bert_information = get_module_info(model_name, bs, seq_len, device, 'module')\n",
    "print_info(bert_information)"
   ]
  },
  {
   "cell_type": "code",
   "execution_count": null,
   "metadata": {},
   "outputs": [],
   "source": [
    "get_non_parametric_ml_op(bert_information['BertSelfAttention'])"
   ]
  },
  {
   "cell_type": "code",
   "execution_count": null,
   "metadata": {},
   "outputs": [],
   "source": [
    "model_name = \"roberta-base\"\n",
    "roberta_information = get_module_info(model_name, bs, seq_len, device, 'module')\n",
    "print_info(roberta_information)"
   ]
  },
  {
   "cell_type": "code",
   "execution_count": null,
   "metadata": {},
   "outputs": [],
   "source": [
    "get_non_parametric_ml_op(roberta_information['RobertaSelfAttention'])"
   ]
  },
  {
   "cell_type": "code",
   "execution_count": 93,
   "metadata": {
    "scrolled": false
   },
   "outputs": [
    {
     "name": "stdout",
     "output_type": "stream",
     "text": [
      "Attention 12\n",
      "<class 'dict'> h.0.attn:Attention {'layer_past': None, 'attention_mask': None, 'head_mask': None, 'use_cache': True, 'output_attentions': False}\n",
      "<class 'tuple'> h.0.attn:Attention [torch.Size([32, 32, 768])]\n",
      "\n",
      "MLP 12\n",
      "<class 'tuple'> h.0.mlp:MLP [torch.Size([32, 32, 768])]\n",
      "\n",
      "Block 12\n",
      "<class 'dict'> h.0:Block {'layer_past': None, 'attention_mask': None, 'head_mask': None, 'encoder_hidden_states': None, 'encoder_attention_mask': None, 'use_cache': True, 'output_attentions': False}\n",
      "<class 'tuple'> h.0:Block [torch.Size([32, 32, 768])]\n",
      "\n"
     ]
    }
   ],
   "source": [
    "# for k, info in information.items():\n",
    "#     for infoi in info:\n",
    "#         ii = infoi['inputs']\n",
    "#         if isinstance(ii, dict):\n",
    "#             print(type(ii), infoi['name'],  {iik:v.shape if isinstance(v, torch.Tensor) else v for iik, v in ii.items()})\n",
    "#         elif isinstance(ii, tuple):\n",
    "#             print(type(ii), infoi['name'],  [v.shape if isinstance(v, torch.Tensor) else v for v in ii])\n",
    "#         else:\n",
    "#             print(type(ii), 'todo', k, infoi)\n",
    "#         print()\n",
    "from calibrate_e_ml import get_module_info\n",
    "from calibrate_e_ml import print_info\n",
    "\n",
    "model_name = \"gpt2\"\n",
    "information = get_module_info(model_name, 32, 32, device, 'module')\n",
    "print_info(information)"
   ]
  },
  {
   "cell_type": "code",
   "execution_count": null,
   "metadata": {},
   "outputs": [],
   "source": [
    "get_non_parametric_ml_op(mobilebert_information['MobileBertSelfAttention'])"
   ]
  },
  {
   "cell_type": "code",
   "execution_count": null,
   "metadata": {},
   "outputs": [],
   "source": [
    "model_name = \"prajjwal1/bert-tiny\"\n",
    "information = get_module_info(model_name, bs, seq_len, device, 'module')\n",
    "print_info(information)"
   ]
  },
  {
   "cell_type": "code",
   "execution_count": null,
   "metadata": {},
   "outputs": [],
   "source": [
    "import torch\n",
    "from torch import nn\n",
    "from transformers import AutoConfig\n",
    "from transformers import AutoModel\n",
    "from transformers import modeling_utils\n",
    "\n",
    "def is_ml_operation(module):\n",
    "    \"\"\"\n",
    "    This function checks if any given module is of a type that\n",
    "    we want to analyse for E_ML operations\n",
    "    \"\"\"\n",
    "\n",
    "    e_ml_operations = {nn.Linear, nn.LayerNorm, nn.Embedding, nn.BatchNorm1d,\n",
    "                       nn.Conv1d, nn.MaxPool1d, nn.AvgPool1d, nn.LSTM, nn.Tanh,\n",
    "                       modeling_utils.Conv1D}\n",
    "\n",
    "    for e_ml_op in e_ml_operations:\n",
    "        if isinstance(module, e_ml_op):\n",
    "            return True\n",
    "    return False\n",
    "\n",
    "config = AutoConfig.from_pretrained(model_name)\n",
    "config.torchscript = True\n",
    "model=AutoModel.from_config(config).eval()"
   ]
  },
  {
   "cell_type": "code",
   "execution_count": null,
   "metadata": {},
   "outputs": [],
   "source": [
    "model.config"
   ]
  },
  {
   "cell_type": "code",
   "execution_count": null,
   "metadata": {},
   "outputs": [],
   "source": [
    "for name, module in model.named_modules():\n",
    "    if not name:\n",
    "        continue\n",
    "    if not is_ml_operation(module):\n",
    "        print(f'{name}:{module.__class__.__name__}')\n",
    "#         print(f'\\t{module}\\n')"
   ]
  },
  {
   "cell_type": "code",
   "execution_count": null,
   "metadata": {},
   "outputs": [],
   "source": [
    "\n",
    "def get_non_parametric_ml_ops(model, input_ids):\n",
    "    non_param_scopes = {name for name, module in model.named_modules() if not is_ml_operation(module)}\n",
    "    trace = torch.jit.trace(model, input_ids)\n",
    "    trace_graph = trace.inlined_graph\n",
    "    graph, op_data_types = construct_aggregation_graph(trace_graph, fname)\n",
    "    sigs = set()\n",
    "    for node in graph.nodes:\n",
    "        if node.op == 'aten::softmax':\n",
    "            sig = f'op=softmax,flops={node.flops},mem_bytes={node.mem_bytes}'\n",
    "            if sig not in sigs:\n",
    "                print(node)\n",
    "                sigs.add(sig)\n",
    "        if node.op == 'aten::matmul' and node.scope in non_param_scopes:\n",
    "            sig = f'op=matmul,flops={node.flops},mem_bytes={node.mem_bytes}'\n",
    "            if sig not in sigs:\n",
    "                print(node)\n",
    "                sigs.add(sig)"
   ]
  },
  {
   "cell_type": "code",
   "execution_count": null,
   "metadata": {},
   "outputs": [],
   "source": [
    "from cg.node import construct_aggregation_graph\n",
    "from calibrate_e_ml import get_non_parametric_ml_ops\n",
    "model_name = \"prajjwal1/bert-tiny\"\n",
    "# \"google/mobilebert-uncased\" \"bert-base-uncased\" \"distilbert-base-uncased\" \"roberta-base\" \"prajjwal1/bert-tiny\"\n",
    "config = AutoConfig.from_pretrained(model_name)\n",
    "config.torchscript = True\n",
    "model=AutoModel.from_config(config).eval()\n",
    "np_info = get_non_parametric_ml_ops(model, input_ids)"
   ]
  },
  {
   "cell_type": "code",
   "execution_count": null,
   "metadata": {},
   "outputs": [],
   "source": [
    "print_info(np_info)"
   ]
  },
  {
   "cell_type": "code",
   "execution_count": null,
   "metadata": {},
   "outputs": [],
   "source": [
    "for node in trace_graph.nodes():\n",
    "    if node.kind() == 'prim::Constant':\n",
    "#         print(node)\n",
    "        print(node.outputs().toIValue())"
   ]
  },
  {
   "cell_type": "code",
   "execution_count": null,
   "metadata": {},
   "outputs": [],
   "source": [
    "config = AutoConfig.from_pretrained(\"google/mobilebert-uncased\")\n",
    "config.torchscript = True\n",
    "model=AutoModel.from_config(config).eval()\n",
    "get_non_parametric_ml_ops(model, input_ids)"
   ]
  },
  {
   "cell_type": "code",
   "execution_count": null,
   "metadata": {
    "scrolled": true
   },
   "outputs": [],
   "source": [
    "config = AutoConfig.from_pretrained(\"bert-base-uncased\")\n",
    "config.torchscript = True\n",
    "model=AutoModel.from_config(config).eval()\n",
    "get_non_parametric_ml_ops(model, input_ids)"
   ]
  },
  {
   "cell_type": "code",
   "execution_count": null,
   "metadata": {},
   "outputs": [],
   "source": [
    "config = AutoConfig.from_pretrained(\"distilbert-base-uncased\")\n",
    "config.torchscript = True\n",
    "model=AutoModel.from_config(config).eval()\n",
    "get_non_parametric_ml_ops(model, input_ids)"
   ]
  },
  {
   "cell_type": "code",
   "execution_count": null,
   "metadata": {},
   "outputs": [],
   "source": [
    "config = AutoConfig.from_pretrained(\"roberta-base\")\n",
    "config.torchscript = True\n",
    "model=AutoModel.from_config(config).eval()\n",
    "get_non_parametric_ml_ops(model, input_ids)"
   ]
  },
  {
   "cell_type": "code",
   "execution_count": 1,
   "metadata": {},
   "outputs": [],
   "source": [
    "import bisect\n",
    "import json\n",
    "import pandas as pd\n",
    "import numpy as np\n",
    "from pathlib import Path\n",
    "from common import sanitize\n",
    "\n",
    "pd.set_option('display.float_format', '{:.6f}'.format)\n",
    "def is_float(x):\n",
    "    try:\n",
    "        float(x)\n",
    "    except ValueError:\n",
    "        return False\n",
    "    return True\n",
    "\n",
    "class Namespace:\n",
    "    def __init__(self, **kwargs):\n",
    "        self.__dict__.update(kwargs)"
   ]
  },
  {
   "cell_type": "code",
   "execution_count": null,
   "metadata": {},
   "outputs": [],
   "source": [
    "res_names = ['cpu', 'mem', 'gpu', 'gpu_mem']\n",
    "\n",
    "feature_names = ['batch_size', 'seq_len', 'flops',\n",
    "                 'mem_bytes'] + \\\n",
    "                ['times_mean', 'times_std',\n",
    "                 'gpu_power_mean', 'gpu_power_std', 'repeats',\n",
    "                 'energy_mean', 'energy_std',\n",
    "                 'level_name', 'model_name'] + res_names + [f'{k}_std' for k in res_names] \n",
    "\n",
    "def process_record(energy, prof_info, res, feature_values,\n",
    "                   model_name, bs, runs, seq_len):\n",
    "    res_np = res.to_numpy()\n",
    "    res_t = res_np[:, 0]\n",
    "    energy_np = energy.to_numpy()\n",
    "    energy_t = energy_np[:, 0]\n",
    "    for prof_item in prof_info:\n",
    "        gpu_power_runs = []\n",
    "        energy_runs = []\n",
    "        times_runs = []\n",
    "        res_runs = {k: [] for k in res_names}\n",
    "        repeats = prof_item['repeats']\n",
    "        for r in range(1, runs + 1):\n",
    "            start_r = prof_item[f'start_{r}']\n",
    "            end_r = prof_item[f'end_{r}']\n",
    "            times_runs.append(end_r - start_r)\n",
    "\n",
    "            res_s = bisect.bisect_right(res_t, start_r)\n",
    "            res_e = bisect.bisect_right(res_t, end_r)\n",
    "            res_r = res[res_s:res_e]\n",
    "            for rn in res_names:\n",
    "                res_runs[rn].append(res_r[rn].mean())\n",
    "            gpu_power_r = res_r['gpu_power'].sum()\n",
    "            gpu_power_runs.append(gpu_power_r)\n",
    "\n",
    "            e_s = bisect.bisect_right(energy_t, start_r)\n",
    "            e_e = bisect.bisect_right(energy_t, end_r)\n",
    "            energy_r = energy[e_s:e_e]['value'].div(repeats).sum()\n",
    "            energy_runs.append(energy_r)\n",
    "\n",
    "        times_mean = np.mean(times_runs)\n",
    "        times_std = np.std(times_runs) / times_mean * 100\n",
    "        gpu_power_mean = np.mean(gpu_power_runs)\n",
    "        gpu_power_std = np.std(gpu_power_runs) / gpu_power_mean * 100\n",
    "        energy_mean = np.median(energy_runs)\n",
    "        energy_std = np.std(energy_runs) / energy_mean * 100\n",
    "        for rn in res_names:\n",
    "            feature_values[rn].append(np.mean(res_runs[rn]))\n",
    "            rn_std = np.std(res_runs[rn]) / np.mean(res_runs[rn]) * 100\n",
    "            feature_values[f'{rn}_std'].append(rn_std)\n",
    "\n",
    "        flops = prof_item['flops'] / 1e6\n",
    "        mem_bytes = prof_item['mem_bytes'] / 1024 / 1024\n",
    "        feature_values['batch_size'].append(bs)\n",
    "        feature_values['seq_len'].append(seq_len)\n",
    "        feature_values['repeats'].append(repeats)\n",
    "        feature_values['energy_mean'].append(energy_mean)\n",
    "        feature_values['energy_std'].append(energy_std)\n",
    "        feature_values['gpu_power_mean'].append(gpu_power_mean)\n",
    "        feature_values['gpu_power_std'].append(gpu_power_std)\n",
    "        feature_values['flops'].append(flops)\n",
    "        feature_values['mem_bytes'].append(mem_bytes)\n",
    "        feature_values['times_mean'].append(times_mean)\n",
    "        feature_values['times_std'].append(times_std)\n",
    "        feature_values['level_name'].append(prof_item['name'])\n",
    "        feature_values['model_name'].append(model_name)\n"
   ]
  },
  {
   "cell_type": "code",
   "execution_count": null,
   "metadata": {},
   "outputs": [],
   "source": [
    "args=Namespace(out_dir='data/qpc', \n",
    "               models=[\"bert-base-uncased\", \"distilbert-base-uncased\", \"roberta-base\"],\n",
    "               exp_type='module', exp_name='module-exp-qpc', runs=3, \n",
    "               input_start=32, seq_step=32, input_length=160,\n",
    "               batch_start=24, batch_step=8, batch_size=40, \n",
    "               )\n",
    "\n",
    "out_dir = Path(args.out_dir)\n",
    "out_dir.mkdir(parents=True, exist_ok=True)\n",
    "runs = args.runs\n",
    "input_start = args.input_start\n",
    "input_length = args.input_length\n",
    "batch_start = args.batch_start\n",
    "batch_size = args.batch_size\n",
    "batch_step = args.batch_step\n",
    "seq_step = args.seq_step\n",
    "exp_type = args.exp_type\n",
    "exp_name = args.exp_name\n",
    "\n",
    "feature_file = out_dir / f'{exp_name}_features.csv'\n",
    "res_file =  out_dir / f'three-exp-res.csv'\n",
    "energy_file = out_dir / f'three-exp-energy.csv'"
   ]
  },
  {
   "cell_type": "code",
   "execution_count": null,
   "metadata": {
    "scrolled": true
   },
   "outputs": [],
   "source": [
    "\n",
    "res = pd.read_csv(res_file).dropna()\n",
    "res = res.apply(pd.to_numeric)\n",
    "\n",
    "energy = pd.read_csv(energy_file, error_bad_lines=False, usecols=[0, 2]).dropna()\n",
    "energy = energy[energy['value'].apply(lambda x: is_float(x))]\n",
    "energy = energy[energy['timestamp'].apply(lambda x: is_float(x))]\n",
    "\n",
    "energy['value'] = energy['value'].astype(float).div(100)\n",
    "energy['timestamp'] = energy['timestamp'].astype(float)\n"
   ]
  },
  {
   "cell_type": "code",
   "execution_count": null,
   "metadata": {},
   "outputs": [],
   "source": [
    "infos = []\n",
    "for model_name in args.models:\n",
    "    feature_values = {k: [] for k in feature_names}\n",
    "    for bs in range(batch_start, batch_size, batch_step):\n",
    "        for seq_len in range(input_start, input_length, seq_step):\n",
    "            name_s = sanitize(model_name)\n",
    "            filename = f'{name_s}_{exp_type}_r{runs}_b{bs}_i{seq_len}.json'\n",
    "            prof_file = Path(out_dir) / exp_name / filename\n",
    "            if not prof_file.exists():\n",
    "                print(prof_file)\n",
    "                continue\n",
    "            with open(prof_file) as f:\n",
    "                prof_info = json.load(f)\n",
    "            process_record(energy, prof_info, res, feature_values,\n",
    "                           model_name, bs, runs, seq_len)\n",
    "    info = pd.DataFrame(data=feature_values)\n",
    "    info.to_csv(feature_file)\n",
    "    infos.append(info)\n",
    "    print(f'{model_name} done.')"
   ]
  },
  {
   "cell_type": "code",
   "execution_count": null,
   "metadata": {},
   "outputs": [],
   "source": [
    "bs = 32\n",
    "seq_len = 256\n",
    "runs = 3\n",
    "model_name = \"bert-base-uncased\"\n",
    "\n",
    "feature_values = {k: [] for k in feature_names}\n",
    "name_s = sanitize(model_name)\n",
    "filename = f'{name_s}_{exp_type}_r{runs}_b{bs}_i{seq_len}.json'\n",
    "prof_file = Path(out_dir) / exp_name / filename\n",
    "with open(prof_file) as f:\n",
    "    prof_info = json.load(f)\n",
    "process_record(energy, prof_info, res, feature_values, model_name, bs, runs, seq_len)\n",
    "info = pd.DataFrame(data=feature_values)"
   ]
  },
  {
   "cell_type": "code",
   "execution_count": 2,
   "metadata": {},
   "outputs": [],
   "source": [
    "pd.set_option('display.float_format', '{:.6f}'.format)\n",
    "pd.set_option('display.max_columns', None)\n",
    "pd.set_option('display.max_rows', 100)"
   ]
  },
  {
   "cell_type": "code",
   "execution_count": null,
   "metadata": {
    "scrolled": true
   },
   "outputs": [],
   "source": [
    "info"
   ]
  },
  {
   "cell_type": "code",
   "execution_count": null,
   "metadata": {},
   "outputs": [],
   "source": [
    "res.to_csv('data/jpc/res.csv')"
   ]
  },
  {
   "cell_type": "code",
   "execution_count": null,
   "metadata": {
    "scrolled": true
   },
   "outputs": [],
   "source": [
    "for info in infos:\n",
    "    print(info.shape)"
   ]
  },
  {
   "cell_type": "code",
   "execution_count": null,
   "metadata": {
    "scrolled": true
   },
   "outputs": [],
   "source": [
    "ml_np_info = pd.concat(infos)\n",
    "ml_np_info.dropna()\n",
    "# ml_np_info.dropna().to_csv('data/jpc/ml_np_features.csv')"
   ]
  },
  {
   "cell_type": "code",
   "execution_count": null,
   "metadata": {
    "scrolled": true
   },
   "outputs": [],
   "source": [
    "ml_info = pd.concat(infos)\n",
    "ml_info"
   ]
  },
  {
   "cell_type": "code",
   "execution_count": null,
   "metadata": {
    "scrolled": true
   },
   "outputs": [],
   "source": [
    "module_info = pd.concat(infos)\n",
    "module_info"
   ]
  },
  {
   "cell_type": "code",
   "execution_count": null,
   "metadata": {
    "scrolled": false
   },
   "outputs": [],
   "source": [
    "model_info = pd.concat(infos)\n",
    "model_info"
   ]
  },
  {
   "cell_type": "code",
   "execution_count": null,
   "metadata": {},
   "outputs": [],
   "source": [
    "infos[2].dropna().sort_values('energy_std')"
   ]
  },
  {
   "cell_type": "code",
   "execution_count": null,
   "metadata": {
    "scrolled": true
   },
   "outputs": [],
   "source": [
    "infos[3].dropna().sort_values('energy_std')"
   ]
  },
  {
   "cell_type": "code",
   "execution_count": 33,
   "metadata": {},
   "outputs": [],
   "source": [
    "out_dir = Path('data/qpc_8')\n",
    "exp_name = 'model-exp-qpc'\n",
    "exp_type = 'model'\n",
    "model_data = pd.read_csv(out_dir / f'{exp_type}-{exp_name}_features.csv')\n",
    "\n",
    "exp_name = 'module-exp-qpc'\n",
    "exp_type = 'module'\n",
    "module_data = pd.read_csv(out_dir / f'{exp_type}-{exp_name}_features.csv')\n",
    "\n",
    "exp_name = 'ml-exp-qpc'\n",
    "exp_type = 'ml'\n",
    "ml_data = pd.read_csv(out_dir / f'{exp_type}-{exp_name}_features.csv')\n",
    "\n",
    "exp_type = 'ml-np'\n",
    "ml_np_data = pd.read_csv(out_dir / f'{exp_type}-{exp_name}_features.csv')\n"
   ]
  },
  {
   "cell_type": "code",
   "execution_count": 12,
   "metadata": {},
   "outputs": [],
   "source": [
    "# model_data[['gpu_energy_mean', 'energy_mean']].plot(style=['rx-','go-'], figsize=(16, 8))"
   ]
  },
  {
   "cell_type": "code",
   "execution_count": null,
   "metadata": {},
   "outputs": [],
   "source": [
    "from matplotlib.pyplot import figure\n",
    "figure(num=None, figsize=(8, 6), dpi=80, facecolor='w', edgecolor='k')"
   ]
  },
  {
   "cell_type": "code",
   "execution_count": null,
   "metadata": {},
   "outputs": [],
   "source": [
    "module_data[['gpu_energy_mean', 'energy_mean']].plot(style=['rx-','go-'], figsize=(24, 8))"
   ]
  },
  {
   "cell_type": "code",
   "execution_count": null,
   "metadata": {},
   "outputs": [],
   "source": [
    "ml_data[['gpu_energy_mean', 'energy_mean']].plot(style=['rx-','go-'], figsize=(24, 8))"
   ]
  },
  {
   "cell_type": "code",
   "execution_count": null,
   "metadata": {},
   "outputs": [],
   "source": [
    "ml_np_data[['gpu_energy_mean', 'energy_mean']].plot(style=['rx-','go-'], figsize=(24, 8))"
   ]
  },
  {
   "cell_type": "code",
   "execution_count": 87,
   "metadata": {
    "scrolled": true
   },
   "outputs": [
    {
     "data": {
      "text/plain": [
       "2100                                embeddings:Embeddings\n",
       "2101    transformer.layer.0.attention:MultiHeadSelfAtt...\n",
       "2102    transformer.layer.1.attention:MultiHeadSelfAtt...\n",
       "2103    transformer.layer.2.attention:MultiHeadSelfAtt...\n",
       "2104    transformer.layer.3.attention:MultiHeadSelfAtt...\n",
       "                              ...                        \n",
       "2655                 transformer.layer.2:TransformerBlock\n",
       "2656                 transformer.layer.3:TransformerBlock\n",
       "2657                 transformer.layer.4:TransformerBlock\n",
       "2658                 transformer.layer.5:TransformerBlock\n",
       "2659                              transformer:Transformer\n",
       "Name: level_name, Length: 560, dtype: object"
      ]
     },
     "execution_count": 87,
     "metadata": {},
     "output_type": "execute_result"
    }
   ],
   "source": [
    "module_data.loc[module_data['model_name']==\"distilbert-base-uncased\"][]"
   ]
  },
  {
   "cell_type": "code",
   "execution_count": 58,
   "metadata": {
    "scrolled": true
   },
   "outputs": [],
   "source": [
    "# md=module_data[:75].loc[:, (module_data[:75] == 0).any(axis=0)]\n",
    "# md\n",
    "from sklearn import preprocessing\n"
   ]
  },
  {
   "cell_type": "code",
   "execution_count": 88,
   "metadata": {},
   "outputs": [
    {
     "name": "stderr",
     "output_type": "stream",
     "text": [
      "<ipython-input-88-3c392a503367>:5: SettingWithCopyWarning: \n",
      "A value is trying to be set on a copy of a slice from a DataFrame.\n",
      "Try using .loc[row_indexer,col_indexer] = value instead\n",
      "\n",
      "See the caveats in the documentation: https://pandas.pydata.org/pandas-docs/stable/user_guide/indexing.html#returning-a-view-versus-a-copy\n",
      "  md[['flops', 'times_mean', 'energy_mean']] = x_scaled\n",
      "/Users/qqcao/.pyenv/versions/nlpnrg/lib/python3.8/site-packages/pandas/core/indexing.py:1738: SettingWithCopyWarning: \n",
      "A value is trying to be set on a copy of a slice from a DataFrame.\n",
      "Try using .loc[row_indexer,col_indexer] = value instead\n",
      "\n",
      "See the caveats in the documentation: https://pandas.pydata.org/pandas-docs/stable/user_guide/indexing.html#returning-a-view-versus-a-copy\n",
      "  self._setitem_single_column(loc, value[:, i].tolist(), pi)\n"
     ]
    },
    {
     "data": {
      "text/plain": [
       "<AxesSubplot:>"
      ]
     },
     "execution_count": 88,
     "metadata": {},
     "output_type": "execute_result"
    },
    {
     "data": {
      "image/png": "[encoded data removed]",
      "text/plain": [
       "<Figure size 1728x576 with 1 Axes>"
      ]
     },
     "metadata": {
      "needs_background": "light"
     },
     "output_type": "display_data"
    }
   ],
   "source": [
    "md=module_data.loc[module_data['level_name'] == \"transformer.layer.0.attention:MultiHeadSelfAttention\"]\n",
    "x = md[['flops', 'times_mean', 'energy_mean']].to_numpy() #returns a numpy array\n",
    "min_max_scaler = preprocessing.MinMaxScaler()\n",
    "x_scaled = min_max_scaler.fit_transform(x)\n",
    "md[['flops', 'times_mean', 'energy_mean']] = x_scaled\n",
    "md[['flops', 'times_mean', 'energy_mean']].plot(style=['rx-','go-'], figsize=(24, 8))\n"
   ]
  },
  {
   "cell_type": "code",
   "execution_count": 76,
   "metadata": {},
   "outputs": [
    {
     "name": "stderr",
     "output_type": "stream",
     "text": [
      "<ipython-input-76-e039c89a0acd>:5: SettingWithCopyWarning: \n",
      "A value is trying to be set on a copy of a slice from a DataFrame.\n",
      "Try using .loc[row_indexer,col_indexer] = value instead\n",
      "\n",
      "See the caveats in the documentation: https://pandas.pydata.org/pandas-docs/stable/user_guide/indexing.html#returning-a-view-versus-a-copy\n",
      "  md[['flops', 'times_mean', 'energy_mean']] = x_scaled\n",
      "/Users/qqcao/.pyenv/versions/nlpnrg/lib/python3.8/site-packages/pandas/core/indexing.py:1738: SettingWithCopyWarning: \n",
      "A value is trying to be set on a copy of a slice from a DataFrame.\n",
      "Try using .loc[row_indexer,col_indexer] = value instead\n",
      "\n",
      "See the caveats in the documentation: https://pandas.pydata.org/pandas-docs/stable/user_guide/indexing.html#returning-a-view-versus-a-copy\n",
      "  self._setitem_single_column(loc, value[:, i].tolist(), pi)\n"
     ]
    },
    {
     "data": {
      "text/plain": [
       "<AxesSubplot:>"
      ]
     },
     "execution_count": 76,
     "metadata": {},
     "output_type": "execute_result"
    },
    {
     "data": {
      "image/png": "[encoded data removed]",
      "text/plain": [
       "<Figure size 1728x576 with 1 Axes>"
      ]
     },
     "metadata": {
      "needs_background": "light"
     },
     "output_type": "display_data"
    }
   ],
   "source": [
    "md=module_data.loc[module_data['level_name'] == \"encoder.layer.0.attention.self:BertSelfAttention\"]\n",
    "x = md[['flops', 'times_mean', 'energy_mean']].to_numpy() #returns a numpy array\n",
    "min_max_scaler = preprocessing.MinMaxScaler()\n",
    "x_scaled = min_max_scaler.fit_transform(x)\n",
    "md[['flops', 'times_mean', 'energy_mean']] = x_scaled\n",
    "md[['flops', 'times_mean', 'energy_mean']].plot(style=['rx-','go-'], figsize=(24, 8))\n"
   ]
  },
  {
   "cell_type": "code",
   "execution_count": null,
   "metadata": {},
   "outputs": [],
   "source": []
  },
  {
   "cell_type": "code",
   "execution_count": 50,
   "metadata": {},
   "outputs": [
    {
     "data": {
      "text/plain": [
       "<AxesSubplot:>"
      ]
     },
     "execution_count": 50,
     "metadata": {},
     "output_type": "execute_result"
    },
    {
     "data": {
      "image/png": "[encoded data removed]",
      "text/plain": [
       "<Figure size 1728x576 with 1 Axes>"
      ]
     },
     "metadata": {
      "needs_background": "light"
     },
     "output_type": "display_data"
    }
   ],
   "source": [
    "md['times_mean']=module_data[:75]['times_mean'].mul(1000)\n",
    "md.iloc[[0, 1, 13,25,37,49]][['times_mean', 'energy_mean']].plot(style=['rx-','go-'], figsize=(24, 8))"
   ]
  },
  {
   "cell_type": "code",
   "execution_count": 34,
   "metadata": {
    "scrolled": true
   },
   "outputs": [
    {
     "data": {
      "text/html": [
       "<div>\n",
       "<style scoped>\n",
       "    .dataframe tbody tr th:only-of-type {\n",
       "        vertical-align: middle;\n",
       "    }\n",
       "\n",
       "    .dataframe tbody tr th {\n",
       "        vertical-align: top;\n",
       "    }\n",
       "\n",
       "    .dataframe thead th {\n",
       "        text-align: right;\n",
       "    }\n",
       "</style>\n",
       "<table border=\"1\" class=\"dataframe\">\n",
       "  <thead>\n",
       "    <tr style=\"text-align: right;\">\n",
       "      <th></th>\n",
       "      <th>batch_size</th>\n",
       "      <th>seq_len</th>\n",
       "      <th>flops</th>\n",
       "      <th>mem_bytes</th>\n",
       "      <th>cpu</th>\n",
       "      <th>mem</th>\n",
       "      <th>gpu</th>\n",
       "      <th>gpu_mem</th>\n",
       "      <th>gpu_clk</th>\n",
       "      <th>gpu_mem_clk</th>\n",
       "      <th>times_mean</th>\n",
       "      <th>gpu_energy_mean</th>\n",
       "      <th>energy_mean</th>\n",
       "      <th>level_name</th>\n",
       "      <th>model_name</th>\n",
       "    </tr>\n",
       "  </thead>\n",
       "  <tbody>\n",
       "    <tr>\n",
       "      <th>0</th>\n",
       "      <td>8.000000</td>\n",
       "      <td>32.000000</td>\n",
       "      <td>0.000000</td>\n",
       "      <td>0.751953</td>\n",
       "      <td>8.550000</td>\n",
       "      <td>10.000000</td>\n",
       "      <td>46.955357</td>\n",
       "      <td>17.098214</td>\n",
       "      <td>1911.000000</td>\n",
       "      <td>3802.000000</td>\n",
       "      <td>0.000026</td>\n",
       "      <td>0.002376</td>\n",
       "      <td>0.004968</td>\n",
       "      <td>embeddings.word_embeddings:Embedding</td>\n",
       "      <td>bert-base-uncased</td>\n",
       "    </tr>\n",
       "    <tr>\n",
       "      <th>1</th>\n",
       "      <td>8.000000</td>\n",
       "      <td>32.000000</td>\n",
       "      <td>0.000000</td>\n",
       "      <td>0.093994</td>\n",
       "      <td>8.543363</td>\n",
       "      <td>10.000000</td>\n",
       "      <td>12.725664</td>\n",
       "      <td>0.000000</td>\n",
       "      <td>1753.778761</td>\n",
       "      <td>3802.000000</td>\n",
       "      <td>0.000026</td>\n",
       "      <td>0.001282</td>\n",
       "      <td>0.003915</td>\n",
       "      <td>embeddings.position_embeddings:Embedding</td>\n",
       "      <td>bert-base-uncased</td>\n",
       "    </tr>\n",
       "    <tr>\n",
       "      <th>2</th>\n",
       "      <td>8.000000</td>\n",
       "      <td>32.000000</td>\n",
       "      <td>0.000000</td>\n",
       "      <td>0.751953</td>\n",
       "      <td>8.550000</td>\n",
       "      <td>10.000000</td>\n",
       "      <td>46.955357</td>\n",
       "      <td>17.098214</td>\n",
       "      <td>1911.000000</td>\n",
       "      <td>3802.000000</td>\n",
       "      <td>0.000026</td>\n",
       "      <td>0.002376</td>\n",
       "      <td>0.004968</td>\n",
       "      <td>embeddings.token_type_embeddings:Embedding</td>\n",
       "      <td>bert-base-uncased</td>\n",
       "    </tr>\n",
       "    <tr>\n",
       "      <th>3</th>\n",
       "      <td>8.000000</td>\n",
       "      <td>32.000000</td>\n",
       "      <td>1.572864</td>\n",
       "      <td>3.000000</td>\n",
       "      <td>8.501770</td>\n",
       "      <td>10.000000</td>\n",
       "      <td>53.805310</td>\n",
       "      <td>15.000000</td>\n",
       "      <td>1901.336283</td>\n",
       "      <td>3802.000000</td>\n",
       "      <td>0.000027</td>\n",
       "      <td>0.002558</td>\n",
       "      <td>0.005318</td>\n",
       "      <td>embeddings.LayerNorm:LayerNorm</td>\n",
       "      <td>bert-base-uncased</td>\n",
       "    </tr>\n",
       "    <tr>\n",
       "      <th>4</th>\n",
       "      <td>8.000000</td>\n",
       "      <td>32.000000</td>\n",
       "      <td>1.572864</td>\n",
       "      <td>3.000000</td>\n",
       "      <td>8.501770</td>\n",
       "      <td>10.000000</td>\n",
       "      <td>53.805310</td>\n",
       "      <td>15.000000</td>\n",
       "      <td>1901.336283</td>\n",
       "      <td>3802.000000</td>\n",
       "      <td>0.000027</td>\n",
       "      <td>0.002558</td>\n",
       "      <td>0.005318</td>\n",
       "      <td>encoder.layer.0.attention.output.LayerNorm:Lay...</td>\n",
       "      <td>bert-base-uncased</td>\n",
       "    </tr>\n",
       "    <tr>\n",
       "      <th>...</th>\n",
       "      <td>...</td>\n",
       "      <td>...</td>\n",
       "      <td>...</td>\n",
       "      <td>...</td>\n",
       "      <td>...</td>\n",
       "      <td>...</td>\n",
       "      <td>...</td>\n",
       "      <td>...</td>\n",
       "      <td>...</td>\n",
       "      <td>...</td>\n",
       "      <td>...</td>\n",
       "      <td>...</td>\n",
       "      <td>...</td>\n",
       "      <td>...</td>\n",
       "      <td>...</td>\n",
       "    </tr>\n",
       "    <tr>\n",
       "      <th>12736</th>\n",
       "      <td>32.000000</td>\n",
       "      <td>96.000000</td>\n",
       "      <td>1.622016</td>\n",
       "      <td>0.781250</td>\n",
       "      <td>8.560526</td>\n",
       "      <td>10.000000</td>\n",
       "      <td>25.000000</td>\n",
       "      <td>0.000000</td>\n",
       "      <td>1582.000000</td>\n",
       "      <td>3802.000000</td>\n",
       "      <td>0.000052</td>\n",
       "      <td>0.002404</td>\n",
       "      <td>0.007719</td>\n",
       "      <td>h.1.multi_head_attention.Wk:Linear</td>\n",
       "      <td>sshleifer/tiny-ctrl</td>\n",
       "    </tr>\n",
       "    <tr>\n",
       "      <th>12737</th>\n",
       "      <td>32.000000</td>\n",
       "      <td>96.000000</td>\n",
       "      <td>1.622016</td>\n",
       "      <td>0.781250</td>\n",
       "      <td>8.560526</td>\n",
       "      <td>10.000000</td>\n",
       "      <td>25.000000</td>\n",
       "      <td>0.000000</td>\n",
       "      <td>1582.000000</td>\n",
       "      <td>3802.000000</td>\n",
       "      <td>0.000052</td>\n",
       "      <td>0.002404</td>\n",
       "      <td>0.007719</td>\n",
       "      <td>h.1.multi_head_attention.Wv:Linear</td>\n",
       "      <td>sshleifer/tiny-ctrl</td>\n",
       "    </tr>\n",
       "    <tr>\n",
       "      <th>12738</th>\n",
       "      <td>32.000000</td>\n",
       "      <td>96.000000</td>\n",
       "      <td>1.622016</td>\n",
       "      <td>0.781250</td>\n",
       "      <td>8.560526</td>\n",
       "      <td>10.000000</td>\n",
       "      <td>25.000000</td>\n",
       "      <td>0.000000</td>\n",
       "      <td>1582.000000</td>\n",
       "      <td>3802.000000</td>\n",
       "      <td>0.000052</td>\n",
       "      <td>0.002404</td>\n",
       "      <td>0.007719</td>\n",
       "      <td>h.1.multi_head_attention.dense:Linear</td>\n",
       "      <td>sshleifer/tiny-ctrl</td>\n",
       "    </tr>\n",
       "    <tr>\n",
       "      <th>12739</th>\n",
       "      <td>32.000000</td>\n",
       "      <td>96.000000</td>\n",
       "      <td>0.202752</td>\n",
       "      <td>0.261719</td>\n",
       "      <td>8.526087</td>\n",
       "      <td>10.000000</td>\n",
       "      <td>22.000000</td>\n",
       "      <td>0.000000</td>\n",
       "      <td>1582.000000</td>\n",
       "      <td>3802.000000</td>\n",
       "      <td>0.000052</td>\n",
       "      <td>0.002312</td>\n",
       "      <td>0.007625</td>\n",
       "      <td>h.1.ffn.0:Linear</td>\n",
       "      <td>sshleifer/tiny-ctrl</td>\n",
       "    </tr>\n",
       "    <tr>\n",
       "      <th>12740</th>\n",
       "      <td>32.000000</td>\n",
       "      <td>96.000000</td>\n",
       "      <td>0.245760</td>\n",
       "      <td>0.589844</td>\n",
       "      <td>8.605357</td>\n",
       "      <td>10.000000</td>\n",
       "      <td>24.000000</td>\n",
       "      <td>0.000000</td>\n",
       "      <td>1582.000000</td>\n",
       "      <td>3802.000000</td>\n",
       "      <td>0.000052</td>\n",
       "      <td>0.002373</td>\n",
       "      <td>0.007743</td>\n",
       "      <td>h.1.ffn.2:Linear</td>\n",
       "      <td>sshleifer/tiny-ctrl</td>\n",
       "    </tr>\n",
       "  </tbody>\n",
       "</table>\n",
       "<p>12741 rows × 15 columns</p>\n",
       "</div>"
      ],
      "text/plain": [
       "       batch_size   seq_len    flops  mem_bytes      cpu       mem       gpu  \\\n",
       "0        8.000000 32.000000 0.000000   0.751953 8.550000 10.000000 46.955357   \n",
       "1        8.000000 32.000000 0.000000   0.093994 8.543363 10.000000 12.725664   \n",
       "2        8.000000 32.000000 0.000000   0.751953 8.550000 10.000000 46.955357   \n",
       "3        8.000000 32.000000 1.572864   3.000000 8.501770 10.000000 53.805310   \n",
       "4        8.000000 32.000000 1.572864   3.000000 8.501770 10.000000 53.805310   \n",
       "...           ...       ...      ...        ...      ...       ...       ...   \n",
       "12736   32.000000 96.000000 1.622016   0.781250 8.560526 10.000000 25.000000   \n",
       "12737   32.000000 96.000000 1.622016   0.781250 8.560526 10.000000 25.000000   \n",
       "12738   32.000000 96.000000 1.622016   0.781250 8.560526 10.000000 25.000000   \n",
       "12739   32.000000 96.000000 0.202752   0.261719 8.526087 10.000000 22.000000   \n",
       "12740   32.000000 96.000000 0.245760   0.589844 8.605357 10.000000 24.000000   \n",
       "\n",
       "        gpu_mem     gpu_clk  gpu_mem_clk  times_mean  gpu_energy_mean  \\\n",
       "0     17.098214 1911.000000  3802.000000    0.000026         0.002376   \n",
       "1      0.000000 1753.778761  3802.000000    0.000026         0.001282   \n",
       "2     17.098214 1911.000000  3802.000000    0.000026         0.002376   \n",
       "3     15.000000 1901.336283  3802.000000    0.000027         0.002558   \n",
       "4     15.000000 1901.336283  3802.000000    0.000027         0.002558   \n",
       "...         ...         ...          ...         ...              ...   \n",
       "12736  0.000000 1582.000000  3802.000000    0.000052         0.002404   \n",
       "12737  0.000000 1582.000000  3802.000000    0.000052         0.002404   \n",
       "12738  0.000000 1582.000000  3802.000000    0.000052         0.002404   \n",
       "12739  0.000000 1582.000000  3802.000000    0.000052         0.002312   \n",
       "12740  0.000000 1582.000000  3802.000000    0.000052         0.002373   \n",
       "\n",
       "       energy_mean                                         level_name  \\\n",
       "0         0.004968               embeddings.word_embeddings:Embedding   \n",
       "1         0.003915           embeddings.position_embeddings:Embedding   \n",
       "2         0.004968         embeddings.token_type_embeddings:Embedding   \n",
       "3         0.005318                     embeddings.LayerNorm:LayerNorm   \n",
       "4         0.005318  encoder.layer.0.attention.output.LayerNorm:Lay...   \n",
       "...            ...                                                ...   \n",
       "12736     0.007719                 h.1.multi_head_attention.Wk:Linear   \n",
       "12737     0.007719                 h.1.multi_head_attention.Wv:Linear   \n",
       "12738     0.007719              h.1.multi_head_attention.dense:Linear   \n",
       "12739     0.007625                                   h.1.ffn.0:Linear   \n",
       "12740     0.007743                                   h.1.ffn.2:Linear   \n",
       "\n",
       "                model_name  \n",
       "0        bert-base-uncased  \n",
       "1        bert-base-uncased  \n",
       "2        bert-base-uncased  \n",
       "3        bert-base-uncased  \n",
       "4        bert-base-uncased  \n",
       "...                    ...  \n",
       "12736  sshleifer/tiny-ctrl  \n",
       "12737  sshleifer/tiny-ctrl  \n",
       "12738  sshleifer/tiny-ctrl  \n",
       "12739  sshleifer/tiny-ctrl  \n",
       "12740  sshleifer/tiny-ctrl  \n",
       "\n",
       "[12741 rows x 15 columns]"
      ]
     },
     "execution_count": 34,
     "metadata": {},
     "output_type": "execute_result"
    }
   ],
   "source": [
    "ml_data"
   ]
  },
  {
   "cell_type": "code",
   "execution_count": 16,
   "metadata": {
    "scrolled": true
   },
   "outputs": [
    {
     "data": {
      "text/html": [
       "<div>\n",
       "<style scoped>\n",
       "    .dataframe tbody tr th:only-of-type {\n",
       "        vertical-align: middle;\n",
       "    }\n",
       "\n",
       "    .dataframe tbody tr th {\n",
       "        vertical-align: top;\n",
       "    }\n",
       "\n",
       "    .dataframe thead th {\n",
       "        text-align: right;\n",
       "    }\n",
       "</style>\n",
       "<table border=\"1\" class=\"dataframe\">\n",
       "  <thead>\n",
       "    <tr style=\"text-align: right;\">\n",
       "      <th></th>\n",
       "      <th>batch_size</th>\n",
       "      <th>seq_len</th>\n",
       "      <th>flops</th>\n",
       "      <th>mem_bytes</th>\n",
       "      <th>cpu</th>\n",
       "      <th>mem</th>\n",
       "      <th>gpu</th>\n",
       "      <th>gpu_mem</th>\n",
       "      <th>times_mean</th>\n",
       "      <th>gpu_energy_mean</th>\n",
       "      <th>energy_mean</th>\n",
       "      <th>energy_std_percent</th>\n",
       "      <th>level_name</th>\n",
       "      <th>model_name</th>\n",
       "    </tr>\n",
       "  </thead>\n",
       "  <tbody>\n",
       "    <tr>\n",
       "      <th>0</th>\n",
       "      <td>8</td>\n",
       "      <td>32</td>\n",
       "      <td>12.582912</td>\n",
       "      <td>1.875000</td>\n",
       "      <td>8.563158</td>\n",
       "      <td>10.000000</td>\n",
       "      <td>92.929825</td>\n",
       "      <td>1.000000</td>\n",
       "      <td>19.365540</td>\n",
       "      <td>0.003355</td>\n",
       "      <td>0.006322</td>\n",
       "      <td>0.000000</td>\n",
       "      <td>encoder.layer.0.attention.self:MatMul</td>\n",
       "      <td>bert-base-uncased</td>\n",
       "    </tr>\n",
       "    <tr>\n",
       "      <th>1</th>\n",
       "      <td>8</td>\n",
       "      <td>32</td>\n",
       "      <td>12.582912</td>\n",
       "      <td>1.875000</td>\n",
       "      <td>8.563158</td>\n",
       "      <td>10.000000</td>\n",
       "      <td>92.929825</td>\n",
       "      <td>1.000000</td>\n",
       "      <td>19.365540</td>\n",
       "      <td>0.003355</td>\n",
       "      <td>0.006322</td>\n",
       "      <td>0.000000</td>\n",
       "      <td>encoder.layer.0.attention.self:MatMul</td>\n",
       "      <td>bert-base-uncased</td>\n",
       "    </tr>\n",
       "    <tr>\n",
       "      <th>2</th>\n",
       "      <td>8</td>\n",
       "      <td>32</td>\n",
       "      <td>12.582912</td>\n",
       "      <td>1.875000</td>\n",
       "      <td>8.563158</td>\n",
       "      <td>10.000000</td>\n",
       "      <td>92.929825</td>\n",
       "      <td>1.000000</td>\n",
       "      <td>19.365540</td>\n",
       "      <td>0.003355</td>\n",
       "      <td>0.006322</td>\n",
       "      <td>0.000000</td>\n",
       "      <td>encoder.layer.1.attention.self:MatMul</td>\n",
       "      <td>bert-base-uncased</td>\n",
       "    </tr>\n",
       "    <tr>\n",
       "      <th>3</th>\n",
       "      <td>8</td>\n",
       "      <td>32</td>\n",
       "      <td>12.582912</td>\n",
       "      <td>1.875000</td>\n",
       "      <td>8.563158</td>\n",
       "      <td>10.000000</td>\n",
       "      <td>92.929825</td>\n",
       "      <td>1.000000</td>\n",
       "      <td>19.365540</td>\n",
       "      <td>0.003355</td>\n",
       "      <td>0.006322</td>\n",
       "      <td>0.000000</td>\n",
       "      <td>encoder.layer.1.attention.self:MatMul</td>\n",
       "      <td>bert-base-uncased</td>\n",
       "    </tr>\n",
       "    <tr>\n",
       "      <th>4</th>\n",
       "      <td>8</td>\n",
       "      <td>32</td>\n",
       "      <td>12.582912</td>\n",
       "      <td>1.875000</td>\n",
       "      <td>8.563158</td>\n",
       "      <td>10.000000</td>\n",
       "      <td>92.929825</td>\n",
       "      <td>1.000000</td>\n",
       "      <td>19.365540</td>\n",
       "      <td>0.003355</td>\n",
       "      <td>0.006322</td>\n",
       "      <td>0.000000</td>\n",
       "      <td>encoder.layer.2.attention.self:MatMul</td>\n",
       "      <td>bert-base-uncased</td>\n",
       "    </tr>\n",
       "    <tr>\n",
       "      <th>...</th>\n",
       "      <td>...</td>\n",
       "      <td>...</td>\n",
       "      <td>...</td>\n",
       "      <td>...</td>\n",
       "      <td>...</td>\n",
       "      <td>...</td>\n",
       "      <td>...</td>\n",
       "      <td>...</td>\n",
       "      <td>...</td>\n",
       "      <td>...</td>\n",
       "      <td>...</td>\n",
       "      <td>...</td>\n",
       "      <td>...</td>\n",
       "      <td>...</td>\n",
       "    </tr>\n",
       "    <tr>\n",
       "      <th>2833</th>\n",
       "      <td>16</td>\n",
       "      <td>96</td>\n",
       "      <td>4.718592</td>\n",
       "      <td>1.312500</td>\n",
       "      <td>8.507500</td>\n",
       "      <td>10.000000</td>\n",
       "      <td>37.458333</td>\n",
       "      <td>5.933333</td>\n",
       "      <td>20.331659</td>\n",
       "      <td>0.002012</td>\n",
       "      <td>0.004907</td>\n",
       "      <td>0.000000</td>\n",
       "      <td>h.0.multi_head_attention:MatMul</td>\n",
       "      <td>sshleifer/tiny-ctrl</td>\n",
       "    </tr>\n",
       "    <tr>\n",
       "      <th>2834</th>\n",
       "      <td>16</td>\n",
       "      <td>96</td>\n",
       "      <td>4.718592</td>\n",
       "      <td>1.312500</td>\n",
       "      <td>8.507500</td>\n",
       "      <td>10.000000</td>\n",
       "      <td>37.458333</td>\n",
       "      <td>5.933333</td>\n",
       "      <td>20.331659</td>\n",
       "      <td>0.002012</td>\n",
       "      <td>0.004907</td>\n",
       "      <td>0.000000</td>\n",
       "      <td>h.1.multi_head_attention:MatMul</td>\n",
       "      <td>sshleifer/tiny-ctrl</td>\n",
       "    </tr>\n",
       "    <tr>\n",
       "      <th>2835</th>\n",
       "      <td>16</td>\n",
       "      <td>96</td>\n",
       "      <td>4.718592</td>\n",
       "      <td>1.312500</td>\n",
       "      <td>8.507500</td>\n",
       "      <td>10.000000</td>\n",
       "      <td>37.458333</td>\n",
       "      <td>5.933333</td>\n",
       "      <td>20.331659</td>\n",
       "      <td>0.002012</td>\n",
       "      <td>0.004907</td>\n",
       "      <td>0.000000</td>\n",
       "      <td>h.1.multi_head_attention:MatMul</td>\n",
       "      <td>sshleifer/tiny-ctrl</td>\n",
       "    </tr>\n",
       "    <tr>\n",
       "      <th>2836</th>\n",
       "      <td>16</td>\n",
       "      <td>96</td>\n",
       "      <td>1.474560</td>\n",
       "      <td>3.375000</td>\n",
       "      <td>8.533913</td>\n",
       "      <td>10.000000</td>\n",
       "      <td>74.400000</td>\n",
       "      <td>61.947826</td>\n",
       "      <td>19.446709</td>\n",
       "      <td>0.001969</td>\n",
       "      <td>0.003568</td>\n",
       "      <td>0.000000</td>\n",
       "      <td>h.0.multi_head_attention:Softmax</td>\n",
       "      <td>sshleifer/tiny-ctrl</td>\n",
       "    </tr>\n",
       "    <tr>\n",
       "      <th>2837</th>\n",
       "      <td>16</td>\n",
       "      <td>96</td>\n",
       "      <td>1.474560</td>\n",
       "      <td>3.375000</td>\n",
       "      <td>8.533913</td>\n",
       "      <td>10.000000</td>\n",
       "      <td>74.400000</td>\n",
       "      <td>61.947826</td>\n",
       "      <td>19.446709</td>\n",
       "      <td>0.001969</td>\n",
       "      <td>0.003568</td>\n",
       "      <td>0.000000</td>\n",
       "      <td>h.1.multi_head_attention:Softmax</td>\n",
       "      <td>sshleifer/tiny-ctrl</td>\n",
       "    </tr>\n",
       "  </tbody>\n",
       "</table>\n",
       "<p>2838 rows × 14 columns</p>\n",
       "</div>"
      ],
      "text/plain": [
       "      batch_size  seq_len     flops  mem_bytes      cpu       mem       gpu  \\\n",
       "0              8       32 12.582912   1.875000 8.563158 10.000000 92.929825   \n",
       "1              8       32 12.582912   1.875000 8.563158 10.000000 92.929825   \n",
       "2              8       32 12.582912   1.875000 8.563158 10.000000 92.929825   \n",
       "3              8       32 12.582912   1.875000 8.563158 10.000000 92.929825   \n",
       "4              8       32 12.582912   1.875000 8.563158 10.000000 92.929825   \n",
       "...          ...      ...       ...        ...      ...       ...       ...   \n",
       "2833          16       96  4.718592   1.312500 8.507500 10.000000 37.458333   \n",
       "2834          16       96  4.718592   1.312500 8.507500 10.000000 37.458333   \n",
       "2835          16       96  4.718592   1.312500 8.507500 10.000000 37.458333   \n",
       "2836          16       96  1.474560   3.375000 8.533913 10.000000 74.400000   \n",
       "2837          16       96  1.474560   3.375000 8.533913 10.000000 74.400000   \n",
       "\n",
       "       gpu_mem  times_mean  gpu_energy_mean  energy_mean  energy_std_percent  \\\n",
       "0     1.000000   19.365540         0.003355     0.006322            0.000000   \n",
       "1     1.000000   19.365540         0.003355     0.006322            0.000000   \n",
       "2     1.000000   19.365540         0.003355     0.006322            0.000000   \n",
       "3     1.000000   19.365540         0.003355     0.006322            0.000000   \n",
       "4     1.000000   19.365540         0.003355     0.006322            0.000000   \n",
       "...        ...         ...              ...          ...                 ...   \n",
       "2833  5.933333   20.331659         0.002012     0.004907            0.000000   \n",
       "2834  5.933333   20.331659         0.002012     0.004907            0.000000   \n",
       "2835  5.933333   20.331659         0.002012     0.004907            0.000000   \n",
       "2836 61.947826   19.446709         0.001969     0.003568            0.000000   \n",
       "2837 61.947826   19.446709         0.001969     0.003568            0.000000   \n",
       "\n",
       "                                 level_name           model_name  \n",
       "0     encoder.layer.0.attention.self:MatMul    bert-base-uncased  \n",
       "1     encoder.layer.0.attention.self:MatMul    bert-base-uncased  \n",
       "2     encoder.layer.1.attention.self:MatMul    bert-base-uncased  \n",
       "3     encoder.layer.1.attention.self:MatMul    bert-base-uncased  \n",
       "4     encoder.layer.2.attention.self:MatMul    bert-base-uncased  \n",
       "...                                     ...                  ...  \n",
       "2833        h.0.multi_head_attention:MatMul  sshleifer/tiny-ctrl  \n",
       "2834        h.1.multi_head_attention:MatMul  sshleifer/tiny-ctrl  \n",
       "2835        h.1.multi_head_attention:MatMul  sshleifer/tiny-ctrl  \n",
       "2836       h.0.multi_head_attention:Softmax  sshleifer/tiny-ctrl  \n",
       "2837       h.1.multi_head_attention:Softmax  sshleifer/tiny-ctrl  \n",
       "\n",
       "[2838 rows x 14 columns]"
      ]
     },
     "execution_count": 16,
     "metadata": {},
     "output_type": "execute_result"
    }
   ],
   "source": [
    "ml_np_data"
   ]
  },
  {
   "cell_type": "code",
   "execution_count": null,
   "metadata": {},
   "outputs": [],
   "source": [
    "import torch\n",
    "cuda_exist = torch.cuda.is_available()\n",
    "device = torch.device(\"cuda\" if cuda_exist else \"cpu\")"
   ]
  },
  {
   "cell_type": "code",
   "execution_count": null,
   "metadata": {},
   "outputs": [],
   "source": [
    "module_info = get_module_info('bert-base-uncased', 24, 32, device, 'module')\n",
    "print_info(module_info)"
   ]
  },
  {
   "cell_type": "code",
   "execution_count": null,
   "metadata": {},
   "outputs": [],
   "source": [
    "ml_info = get_module_info('bert-base-uncased', 24, 32, device, 'ml')\n",
    "print_info(ml_info)"
   ]
  },
  {
   "cell_type": "code",
   "execution_count": null,
   "metadata": {},
   "outputs": [],
   "source": [
    "ml_info"
   ]
  },
  {
   "cell_type": "code",
   "execution_count": null,
   "metadata": {},
   "outputs": [],
   "source": [
    "ml_np_info = get_module_info('bert-base-uncased', 24, 32, device, 'ml-np')\n",
    "print_info(ml_np_info)"
   ]
  },
  {
   "cell_type": "code",
   "execution_count": null,
   "metadata": {},
   "outputs": [],
   "source": [
    "ml_np_info"
   ]
  },
  {
   "cell_type": "markdown",
   "metadata": {},
   "source": [
    "from transformers import AutoModel\n",
    "from transformers import AutoConfig\n",
    "import torch\n",
    "from torch import nn\n",
    "from calibrate_e_ml import get_module_info\n",
    "from calibrate_e_ml import print_info\n",
    "from calibrate_e_ml import is_ml_operation\n",
    "torch.set_grad_enabled(False)\n",
    "\n",
    "\n",
    "#load model-energy csv file\n",
    "\n",
    "for each row:\n",
    "    # get batch size, seq len, model_name # e.g. bs=24, seq_len=32, model_name='bert-base-uncased'\n",
    "    device = torch.device(\"cpu\")\n",
    "    \n",
    "    ml_info = get_module_info('bert-base-uncased', 24, 32, device, 'ml') # the get_module_info is in calibrate_e_ml.py \n",
    "    ml_np_info = get_module_info('bert-base-uncased', 24, 32, device, 'ml-np')\n",
    "    module_info = get_module_info('bert-base-uncased', 24, 32, device, 'module')\n",
    "    \n",
    "    config = AutoConfig.from_pretrained('bert-base-uncased')\n",
    "    config.torchscript = True\n",
    "    model=AutoModel.from_config(config).eval()\n",
    "    \n",
    "    for name, module in model.named_modules():\n",
    "        if not name:\n",
    "            continue\n",
    "        if not is_ml_operation(module):\n",
    "            print(f'{name}:{module.__class__.__name__}')\n",
    "            # use name to get all ml level components from ml_info and ml_np_info\n",
    "            # for each level, look up the predicted energy using the key: name+flops+mem_bytes\n"
   ]
  },
  {
   "cell_type": "code",
   "execution_count": null,
   "metadata": {},
   "outputs": [],
   "source": [
    "seq_len = 100\n",
    "bs = 4\n",
    "input_ids = torch.randint(1000, size=(bs, seq_len), dtype=torch.long, device='cpu')\n",
    "config = AutoConfig.from_pretrained(\"albert-base-v2\")\n",
    "config.torchscript = True\n",
    "model=AutoModel.from_config(config).eval()\n",
    "traced_model = torch.jit.trace(model, (input_ids, ))\n"
   ]
  },
  {
   "cell_type": "code",
   "execution_count": null,
   "metadata": {},
   "outputs": [],
   "source": [
    "trace_graph"
   ]
  },
  {
   "cell_type": "code",
   "execution_count": null,
   "metadata": {},
   "outputs": [],
   "source": [
    "trace_graph = traced_model.inlined_graph\n",
    "graph, _ = construct_aggregation_graph(trace_graph, 'module_name')"
   ]
  },
  {
   "cell_type": "code",
   "execution_count": null,
   "metadata": {},
   "outputs": [],
   "source": [
    "graph"
   ]
  },
  {
   "cell_type": "code",
   "execution_count": null,
   "metadata": {},
   "outputs": [],
   "source": [
    "module = None\n",
    "for m in model.modules():\n",
    "    if m.__class__.__name__ == 'BartAttention':\n",
    "        module = m\n",
    "        break"
   ]
  },
  {
   "cell_type": "code",
   "execution_count": null,
   "metadata": {},
   "outputs": [],
   "source": [
    "module"
   ]
  },
  {
   "cell_type": "code",
   "execution_count": null,
   "metadata": {},
   "outputs": [],
   "source": [
    "module.device"
   ]
  },
  {
   "cell_type": "code",
   "execution_count": 7,
   "metadata": {},
   "outputs": [
    {
     "name": "stdout",
     "output_type": "stream",
     "text": [
      "loading region bounding boxes for computing carbon emissions region, this may take a moment...\n",
      " 454/454... rate=459.93 Hz, eta=0:00:00, total=0:00:00, wall=16:01 ESTT\n",
      "Done!\n"
     ]
    }
   ],
   "source": [
    "from experiment_impact_tracker.utils import gather_additional_info\n",
    "from experiment_impact_tracker.utils import load_initial_info"
   ]
  },
  {
   "cell_type": "code",
   "execution_count": 8,
   "metadata": {},
   "outputs": [
    {
     "name": "stderr",
     "output_type": "stream",
     "text": [
      "/Users/qqcao/.pyenv/versions/nlpnrg/lib/python3.8/site-packages/experiment_impact_tracker/data_utils.py:26: FutureWarning: pandas.io.json.json_normalize is deprecated, use pandas.json_normalize instead\n",
      "  return json_normalize(json_array, max_level=max_level), json_array\n"
     ]
    }
   ],
   "source": [
    "log_dir = 'data/soft/soft-model-exp-qpc-bert-base-uncased/'\n",
    "sys_data = load_initial_info(log_dir)\n",
    "eff_data = gather_additional_info(sys_data, log_dir)"
   ]
  },
  {
   "cell_type": "code",
   "execution_count": 9,
   "metadata": {},
   "outputs": [
    {
     "data": {
      "text/plain": [
       "{'cpu_hours': 0.011522222222222224,\n",
       " 'gpu_hours': 0.012841860913347313,\n",
       " 'estimated_carbon_impact_kg': 0.0005686162510141881,\n",
       " 'total_power': 0.00267523815381148,\n",
       " 'kw_hr_gpu': 0.0010413677640570536,\n",
       " 'kw_hr_cpu': 0.0006518209408869213,\n",
       " 'exp_len_hours': 0.009165858891275193}"
      ]
     },
     "execution_count": 9,
     "metadata": {},
     "output_type": "execute_result"
    }
   ],
   "source": [
    "eff_data"
   ]
  },
  {
   "cell_type": "code",
   "execution_count": 94,
   "metadata": {},
   "outputs": [],
   "source": [
    "from datetime import datetime\n"
   ]
  },
  {
   "cell_type": "code",
   "execution_count": 95,
   "metadata": {},
   "outputs": [
    {
     "data": {
      "text/plain": [
       "datetime.datetime(2021, 1, 25, 22, 7, 46, 306401)"
      ]
     },
     "execution_count": 95,
     "metadata": {},
     "output_type": "execute_result"
    }
   ],
   "source": [
    "datetime.fromtimestamp(1611630466.306401)"
   ]
  },
  {
   "cell_type": "code",
   "execution_count": 96,
   "metadata": {},
   "outputs": [
    {
     "data": {
      "text/plain": [
       "1611730800.0"
      ]
     },
     "execution_count": 96,
     "metadata": {},
     "output_type": "execute_result"
    }
   ],
   "source": [
    "import time\n",
    "\n",
    "dt = datetime.strptime('2021-01-27 02:00:00', '%Y-%m-%d %H:%M:%S')\n",
    "time.mktime(dt.timetuple())"
   ]
  },
  {
   "cell_type": "code",
   "execution_count": 97,
   "metadata": {},
   "outputs": [
    {
     "data": {
      "text/plain": [
       "100143.49326395988"
      ]
     },
     "execution_count": 97,
     "metadata": {},
     "output_type": "execute_result"
    }
   ],
   "source": [
    "1611730800.0 - 1611630656.506736"
   ]
  },
  {
   "cell_type": "code",
   "execution_count": null,
   "metadata": {},
   "outputs": [],
   "source": []
  }
 ],
 "metadata": {
  "kernelspec": {
   "display_name": "Python 3",
   "language": "python",
   "name": "python3"
  },
  "language_info": {
   "codemirror_mode": {
    "name": "ipython",
    "version": 3
   },
   "file_extension": ".py",
   "mimetype": "text/x-python",
   "name": "python",
   "nbconvert_exporter": "python",
   "pygments_lexer": "ipython3",
   "version": "3.8.6"
  }
 },
 "nbformat": 4,
 "nbformat_minor": 1
}