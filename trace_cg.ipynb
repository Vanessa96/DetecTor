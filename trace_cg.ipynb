{
 "cells": [
  {
   "cell_type": "code",
   "execution_count": null,
   "metadata": {},
   "outputs": [],
   "source": [
    "from datetime import datetime\n",
    "print(datetime.fromtimestamp(1605498402.136237))"
   ]
  },
  {
   "cell_type": "code",
   "execution_count": null,
   "metadata": {},
   "outputs": [],
   "source": [
    "# import autoreload\n",
    "# ?autoreload\n",
    "\n",
    "%load_ext autoreload\n",
    "%autoreload 2\n",
    "import torch\n",
    "from transformers import AutoModel\n",
    "from transformers import AutoConfig"
   ]
  },
  {
   "cell_type": "code",
   "execution_count": null,
   "metadata": {
    "pycharm": {
     "name": "#%%\n"
    }
   },
   "outputs": [],
   "source": [
    "# config = AutoConfig.from_pretrained(\"prajjwal1/bert-tiny\")\n",
    "config = AutoConfig.from_pretrained(\"albert-base-v2\")\n",
    "config.hidden_act = 'gelu_fast'\n",
    "config.torchscript = True\n",
    "model = AutoModel.from_config(config)\n",
    "inputs = torch.randint(1000, size=(1, 100)).long()\n",
    "# model()\n",
    "# with torch.onnx.select_model_mode_for_export(model, False):\n",
    "  # trace, _ = torch.jit._get_trace_graph(model, args=(inputs,))\n",
    "#     trace = torch.jit.trace(model, (inputs, ))\n",
    "mo=model.eval()"
   ]
  },
  {
   "cell_type": "code",
   "execution_count": null,
   "metadata": {},
   "outputs": [],
   "source": [
    "import pdir"
   ]
  },
  {
   "cell_type": "code",
   "execution_count": null,
   "metadata": {},
   "outputs": [],
   "source": [
    "pdir(mo)"
   ]
  },
  {
   "cell_type": "code",
   "execution_count": null,
   "metadata": {},
   "outputs": [],
   "source": [
    "mo"
   ]
  },
  {
   "cell_type": "code",
   "execution_count": null,
   "metadata": {},
   "outputs": [],
   "source": [
    "a=['aten::Int', 'aten::ScalarImplicit', 'aten::abs', 'aten::add', 'aten::add_', 'aten::addmm', 'aten::arange', 'aten::bmm', 'aten::cat', 'aten::clone', 'aten::constant_pad_nd', 'aten::contiguous', 'aten::copy_', 'aten::cumsum', 'aten::div', 'aten::dropout', 'aten::einsum', 'aten::embedding', 'aten::eq', 'aten::expand_as', 'aten::fill_', 'aten::floor_divide', 'aten::full_like', 'aten::gather', 'aten::gelu', 'aten::index', 'aten::layer_norm', 'aten::le', 'aten::log', 'aten::lt', 'aten::masked_fill', 'aten::masked_fill_', 'aten::matmul', 'aten::max', 'aten::mean', 'aten::min', 'aten::mul', 'aten::mul_', 'aten::ne', 'aten::neg', 'aten::ones', 'aten::permute', 'aten::pow', 'aten::relu', 'aten::repeat', 'aten::reshape', 'aten::rsub', 'aten::select', 'aten::size', 'aten::slice', 'aten::softmax', 'aten::split', 'aten::sqrt', 'aten::squeeze', 'aten::stack', 'aten::sub', 'aten::sum', 'aten::t', 'aten::tanh', 'aten::to', 'aten::transpose', 'aten::triu', 'aten::type_as', 'aten::unsqueeze', 'aten::view', 'aten::where', 'aten::zeros', 'aten::zeros_like', 'prim::Constant', 'prim::GetAttr', 'prim::ListConstruct', 'prim::ListUnpack', 'prim::NumToTensor', 'prim::TupleConstruct', 'prim::TupleUnpack']"
   ]
  },
  {
   "cell_type": "code",
   "execution_count": null,
   "metadata": {
    "scrolled": true
   },
   "outputs": [],
   "source": [
    "for ai in a:\n",
    "    print(f\"'{ai}': '{ai.replace('::', '_')}',\")"
   ]
  },
  {
   "cell_type": "code",
   "execution_count": null,
   "metadata": {},
   "outputs": [],
   "source": [
    "a = torch.zeros(100, dtype=torch.long)"
   ]
  },
  {
   "cell_type": "code",
   "execution_count": null,
   "metadata": {},
   "outputs": [],
   "source": [
    "import sys\n",
    "sys.getsizeof(a)"
   ]
  },
  {
   "cell_type": "code",
   "execution_count": null,
   "metadata": {},
   "outputs": [],
   "source": [
    "import time\n",
    "\n",
    "start_times = dict()\n",
    "end_times = dict()\n",
    "\n",
    "def log_start_builder(name):\n",
    "    def log_start(module, m_in):\n",
    "        start_times[f'{name}:{module.__class__.__name__}'] = time.perf_counter()\n",
    "    return log_start\n",
    "def log_end_builder(name):\n",
    "    def log_end(module, m_in, m_out):\n",
    "        end_times[f'{name}:{module.__class__.__name__}'] = time.perf_counter()\n",
    "#         print(name, module.__class__.__name__, 'end', time.perf_counter())\n",
    "    return log_end"
   ]
  },
  {
   "cell_type": "code",
   "execution_count": null,
   "metadata": {},
   "outputs": [],
   "source": [
    "for name, module in mo.named_modules():\n",
    "    print(name, module.__class__.__name__)\n",
    "    module.register_forward_pre_hook(log_start_builder(name))\n",
    "    module.register_forward_hook(log_end_builder(name))"
   ]
  },
  {
   "cell_type": "code",
   "execution_count": null,
   "metadata": {},
   "outputs": [],
   "source": [
    "trace = torch.jit.trace(model, inputs) # 1605233162.4006221"
   ]
  },
  {
   "cell_type": "code",
   "execution_count": null,
   "metadata": {},
   "outputs": [],
   "source": [
    "for k, start in start_times.items():\n",
    "    print(f'{k}, {(end_times[k]-start)*1000:.3f} ms, {start}, {end_times[k]}')"
   ]
  },
  {
   "cell_type": "code",
   "execution_count": null,
   "metadata": {},
   "outputs": [],
   "source": [
    "graph = trace.inlined_graph"
   ]
  },
  {
   "cell_type": "code",
   "execution_count": null,
   "metadata": {
    "pycharm": {
     "name": "#%%\n"
    }
   },
   "outputs": [],
   "source": [
    "graph"
   ]
  },
  {
   "cell_type": "code",
   "execution_count": null,
   "metadata": {},
   "outputs": [],
   "source": [
    "ni=list(graph.nodes())\n",
    "ni"
   ]
  },
  {
   "cell_type": "code",
   "execution_count": null,
   "metadata": {},
   "outputs": [],
   "source": [
    "ni[0].output().node()"
   ]
  },
  {
   "cell_type": "code",
   "execution_count": null,
   "metadata": {},
   "outputs": [],
   "source": [
    "ni[0].output()"
   ]
  },
  {
   "cell_type": "code",
   "execution_count": null,
   "metadata": {},
   "outputs": [],
   "source": [
    "ni[72].output() # build all input leaf data nodes, then construct the opnode with input and output nodes"
   ]
  },
  {
   "cell_type": "code",
   "execution_count": null,
   "metadata": {},
   "outputs": [],
   "source": [
    "ni[0]"
   ]
  },
  {
   "cell_type": "code",
   "execution_count": null,
   "metadata": {},
   "outputs": [],
   "source": [
    "list(ni[0].outputs())"
   ]
  },
  {
   "cell_type": "code",
   "execution_count": null,
   "metadata": {},
   "outputs": [],
   "source": [
    "list(ni[0].inputs())"
   ]
  },
  {
   "cell_type": "code",
   "execution_count": null,
   "metadata": {},
   "outputs": [],
   "source": [
    "pn=ni[0].input().node()\n",
    "pn"
   ]
  },
  {
   "cell_type": "code",
   "execution_count": null,
   "metadata": {},
   "outputs": [],
   "source": [
    "gi=list(graph.inputs())\n",
    "gi"
   ]
  },
  {
   "cell_type": "code",
   "execution_count": null,
   "metadata": {},
   "outputs": [],
   "source": [
    "list(gi[0].node().outputs())[0].type()"
   ]
  },
  {
   "cell_type": "code",
   "execution_count": null,
   "metadata": {},
   "outputs": [],
   "source": [
    "list(gi[1].node().outputs())[1].type().sizes()"
   ]
  },
  {
   "cell_type": "code",
   "execution_count": null,
   "metadata": {},
   "outputs": [],
   "source": [
    "'encoder/encoder.layer.0/encoder.layer.0.attention/encoder.layer.0.attention.output'.split('/')[-1]"
   ]
  },
  {
   "cell_type": "code",
   "execution_count": null,
   "metadata": {},
   "outputs": [],
   "source": [
    "print(pn)\n",
    "print(gi[1].node())\n",
    "pn==gi[0].node()"
   ]
  },
  {
   "cell_type": "code",
   "execution_count": null,
   "metadata": {},
   "outputs": [],
   "source": [
    "[i.user for i in gi[0].uses()]"
   ]
  },
  {
   "cell_type": "code",
   "execution_count": null,
   "metadata": {},
   "outputs": [],
   "source": [
    "go=list(graph.outputs())\n",
    "go"
   ]
  },
  {
   "cell_type": "code",
   "execution_count": null,
   "metadata": {},
   "outputs": [],
   "source": [
    "# sub_scopes='encoder.layer.0.attention.output.LayerNorm'.split('.')"
   ]
  },
  {
   "cell_type": "code",
   "execution_count": null,
   "metadata": {},
   "outputs": [],
   "source": [
    "'true' if '' and len(''.split('.')) else 'false'"
   ]
  },
  {
   "cell_type": "code",
   "execution_count": null,
   "metadata": {},
   "outputs": [],
   "source": [
    "sub_scopes='encoder.layer.0.attention.output.LayerNorm'.split('.')\n",
    "for si in range(len(sub_scopes), 0, -1):\n",
    "    p_scope = '.'.join(sub_scopes[0:si-1])\n",
    "    child_scope = '.'.join(sub_scopes[0:si])\n",
    "    print(si, p_scope, child_scope)"
   ]
  },
  {
   "cell_type": "code",
   "execution_count": null,
   "metadata": {},
   "outputs": [],
   "source": []
  }
 ],
 "metadata": {
  "kernelspec": {
   "display_name": "Python 3",
   "language": "python",
   "name": "python3"
  },
  "language_info": {
   "codemirror_mode": {
    "name": "ipython",
    "version": 3
   },
   "file_extension": ".py",
   "mimetype": "text/x-python",
   "name": "python",
   "nbconvert_exporter": "python",
   "pygments_lexer": "ipython3",
   "version": "3.8.6"
  }
 },
 "nbformat": 4,
 "nbformat_minor": 1
}
